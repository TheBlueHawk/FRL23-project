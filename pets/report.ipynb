{
 "cells": [
  {
   "cell_type": "code",
   "execution_count": 24,
   "metadata": {},
   "outputs": [],
   "source": [
    "import os\n",
    "from scipy.io import loadmat\n",
    "\n",
    "path = \"/cluster/scratch/mullec/FoRL/FRL23-project/pets/log/2023-06-18--11:49:03/logs.mat\"\n",
    "\n",
    "\n",
    "data = loadmat(path)"
   ]
  },
  {
   "cell_type": "code",
   "execution_count": 25,
   "metadata": {},
   "outputs": [
    {
     "name": "stdout",
     "output_type": "stream",
     "text": [
      "[-83.55843452720501, -70.36735900897918, -28.306309869730992, -14.001204544484928, 21.76700755906885, 65.60196542264762, 79.45250957493636, 90.16138806256956, 101.25604926947086, 99.40986833466621, 90.55691223819971, 146.17913980511813, 146.5951164793916, 147.31585461860345, 144.76631259336824, 149.10941912309247, 150.03697497120172, 149.08052927006, 151.71301264977825, 149.98093464983936, 147.61622882802808, 148.68961433373804, 150.08775029918883, 145.86020511456402, 148.77663319258716, 145.8267632181745, 148.3502800988467, 146.34529137621558, 150.10421803733675, 148.3765067283072, 152.03924716951323]\n",
      "Average of last 20 rewards: 148.34250162784767\n",
      "Variance of last 20 rewards: 3.8379106011225907\n"
     ]
    }
   ],
   "source": [
    "import numpy as np\n",
    "\n",
    "# Assuming the dictionary data is stored in a variable called 'data'\n",
    "rewards = data['rewards'][0]  # Extract the rewards\n",
    "\n",
    "# Calculate the mean of each array and store them in a new list\n",
    "mean_rewards = [np.sum(arr) for arr in rewards]\n",
    "\n",
    "# Extract the last 20 elements from the mean_rewards list\n",
    "last_20_rewards = mean_rewards[-20:]\n",
    "\n",
    "# Calculate the average and variance of the last 20 rewards\n",
    "average = np.mean(last_20_rewards)\n",
    "variance = np.var(last_20_rewards)\n",
    "\n",
    "# Print the results\n",
    "print(\"Average of last 20 rewards:\", average)\n",
    "print(\"Variance of last 20 rewards:\", variance)\n"
   ]
  }
 ],
 "metadata": {
  "kernelspec": {
   "display_name": "base",
   "language": "python",
   "name": "python3"
  },
  "language_info": {
   "codemirror_mode": {
    "name": "ipython",
    "version": 3
   },
   "file_extension": ".py",
   "mimetype": "text/x-python",
   "name": "python",
   "nbconvert_exporter": "python",
   "pygments_lexer": "ipython3",
   "version": "3.10.10"
  },
  "orig_nbformat": 4
 },
 "nbformat": 4,
 "nbformat_minor": 2
}
